{
 "cells": [
  {
   "cell_type": "code",
   "execution_count": 1,
   "metadata": {},
   "outputs": [],
   "source": [
    "import networkx as nx\n",
    "# https://networkx.github.io/documentation/stable/reference/index.html\n",
    "import matplotlib.pyplot as plt\n",
    "from matplotlib import pylab\n",
    "import numpy as np\n",
    "import pandas as pd"
   ]
  },
  {
   "cell_type": "code",
   "execution_count": 2,
   "metadata": {},
   "outputs": [],
   "source": [
    "# load the graph\n",
    "# The graph is an extraction from LinkedIn Social Network\n",
    "G = nx.read_gexf(\"mediumLinkedin.gexf\")"
   ]
  },
  {
   "cell_type": "markdown",
   "metadata": {},
   "source": [
    "# Exploration of the graph : relational data understanding"
   ]
  },
  {
   "cell_type": "code",
   "execution_count": 3,
   "metadata": {},
   "outputs": [
    {
     "name": "stdout",
     "output_type": "stream",
     "text": [
      "Graph with 811 nodes and 1597 edges\n"
     ]
    }
   ],
   "source": [
    "# networkx short summary of information for the graph g\n",
    "print(G)"
   ]
  },
  {
   "cell_type": "code",
   "execution_count": 4,
   "metadata": {},
   "outputs": [
    {
     "data": {
      "text/plain": [
       "811"
      ]
     },
     "execution_count": 4,
     "metadata": {},
     "output_type": "execute_result"
    }
   ],
   "source": [
    "G.number_of_nodes()"
   ]
  },
  {
   "cell_type": "code",
   "execution_count": 5,
   "metadata": {},
   "outputs": [
    {
     "data": {
      "text/plain": [
       "1597"
      ]
     },
     "execution_count": 5,
     "metadata": {},
     "output_type": "execute_result"
    }
   ],
   "source": [
    "G.number_of_edges()"
   ]
  },
  {
   "cell_type": "markdown",
   "metadata": {},
   "source": [
    "## Degree\n"
   ]
  },
  {
   "cell_type": "code",
   "execution_count": 6,
   "metadata": {},
   "outputs": [
    {
     "data": {
      "image/png": "[encoded data removed]",
      "text/plain": [
       "<Figure size 640x480 with 1 Axes>"
      ]
     },
     "metadata": {},
     "output_type": "display_data"
    }
   ],
   "source": [
    "# Draw the degree distribution. If powerlow distribution, the graph shows one of the properties\n",
    "# of a real (complex) network, such as social networks, biological networks, internet networks.\n",
    "plt.figure(num=None)\n",
    "fig = plt.figure(1)\n",
    "degree_sequence=[d for n, d in G.degree()] # degree sequence\n",
    "plt.hist(degree_sequence, bins='auto')  \n",
    "plt.title(\"powerlaw degree distribution\")\n",
    "plt.ylabel(\"# nodes\")\n",
    "plt.xlabel(\"degree\")\n",
    "plt.show()\n",
    "pylab.close()\n",
    "del fig"
   ]
  },
  {
   "cell_type": "code",
   "execution_count": 7,
   "metadata": {},
   "outputs": [],
   "source": [
    "#G.degree()"
   ]
  },
  {
   "cell_type": "code",
   "execution_count": 8,
   "metadata": {},
   "outputs": [
    {
     "name": "stdout",
     "output_type": "stream",
     "text": [
      "The 5 nodes with the highest degree are: [('U7972', 46), ('U8670', 46), ('U1045', 58), ('U7024', 74), ('U27287', 122)]\n",
      "5 of the nodes with the smallest degree are: [('U8804', 1), ('U27759', 1), ('U7310', 1), ('U22859', 1), ('U1417', 1)]\n"
     ]
    }
   ],
   "source": [
    "# To see the nodes with the highest degree\n",
    "# We use \"sorted\" to sort a list\n",
    "# We build the list of items (key + value) from NetworkX dictionary given by G.degree()\n",
    "# The sort key is a lambda function which gives the indice of the data to sort.\n",
    "# t is a tuple (key, value) from the dict\n",
    "# Lambda says to sort with the value of the tuple: t[1], here the value form (key,value), i.e. d (the degree)\n",
    "# to sort the tuple on the key, choose t[0]\n",
    "sorted_nodes_by_degree=sorted([(n,d) for n, d in G.degree()], key=lambda t: t[1])\n",
    "print(\"The 5 nodes with the highest degree are: %s\" % str(sorted_nodes_by_degree[-5:]))\n",
    "print(\"5 of the nodes with the smallest degree are: %s\" % str(sorted_nodes_by_degree[:5]))"
   ]
  },
  {
   "cell_type": "markdown",
   "metadata": {},
   "source": [
    "## Neighbors"
   ]
  },
  {
   "cell_type": "code",
   "execution_count": 9,
   "metadata": {},
   "outputs": [
    {
     "name": "stdout",
     "output_type": "stream",
     "text": [
      "U7912 has 17 neighbors\n",
      "U7912 has 17 neighbors\n"
     ]
    }
   ],
   "source": [
    "# To see the neighbors of a node\n",
    "print(\"U7912 has %d neighbors\" % len([n for n in G.neighbors('U7912')]))\n",
    "print(\"U7912 has %d neighbors\" % G.degree('U7912'))\n"
   ]
  },
  {
   "cell_type": "code",
   "execution_count": 10,
   "metadata": {},
   "outputs": [
    {
     "name": "stdout",
     "output_type": "stream",
     "text": [
      "U4456\n",
      "U7909\n",
      "U18928\n",
      "U18965\n",
      "U18942\n",
      "U9126\n",
      "U18939\n",
      "U14577\n",
      "U18949\n",
      "U18932\n",
      "U4488\n",
      "U27941\n",
      "U16219\n",
      "U4485\n",
      "U4661\n",
      "U18914\n",
      "U18943\n"
     ]
    }
   ],
   "source": [
    "for n in G.neighbors('U7912'):\n",
    "    print(n)"
   ]
  },
  {
   "cell_type": "markdown",
   "metadata": {},
   "source": [
    "# So, what about the influencers?\n",
    "\n",
    "A first strategy could be to use the highest degree, but how, to do what? And how to measure their influence?\n",
    "\n",
    "Be creative!"
   ]
  },
  {
   "cell_type": "code",
   "execution_count": null,
   "metadata": {},
   "outputs": [],
   "source": []
  }
 ],
 "metadata": {
  "kernelspec": {
   "display_name": "Python 3 (ipykernel)",
   "language": "python",
   "name": "python3"
  },
  "language_info": {
   "codemirror_mode": {
    "name": "ipython",
    "version": 3
   },
   "file_extension": ".py",
   "mimetype": "text/x-python",
   "name": "python",
   "nbconvert_exporter": "python",
   "pygments_lexer": "ipython3",
   "version": "3.10.7"
  }
 },
 "nbformat": 4,
 "nbformat_minor": 2
}
